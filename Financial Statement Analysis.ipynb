{
 "cells": [
  {
   "cell_type": "code",
   "execution_count": 1,
   "metadata": {
    "collapsed": true
   },
   "outputs": [],
   "source": [
    "#Data \n",
    "revenue = [14574.49, 7606.46, 8611.41, 9175.41, 8058.65, 8105.44, 11496.28, 9766.09, 10305.32, 14379.96, 10713.97, 15433.50]\n",
    "expenses = [12051.82, 5695.07, 12319.20, 12089.72, 8658.57, 840.20, 3285.73, 5821.12, 6976.93, 16618.61, 10054.37, 3803.96]"
   ]
  },
  {
   "cell_type": "code",
   "execution_count": 2,
   "metadata": {},
   "outputs": [],
   "source": [
    "#Calculate the Profit for each month by subsracting expenses from revenue\n",
    "profit = []\n",
    "for month in range(0,len(revenue)):\n",
    "    profit.append(revenue[month] - expenses[month])\n"
   ]
  },
  {
   "cell_type": "code",
   "execution_count": 3,
   "metadata": {},
   "outputs": [],
   "source": [
    "#Tax is calculated as 30% on each month's profit\n",
    "tax = [round(month * 0.3,2) for month in profit]"
   ]
  },
  {
   "cell_type": "code",
   "execution_count": 4,
   "metadata": {},
   "outputs": [],
   "source": [
    "#profit after tax for each month\n",
    "Profit_After_Tax = []\n",
    "for month in range(0,len(profit)):\n",
    "    Profit_After_Tax.append(profit[month] - tax[month])\n"
   ]
  },
  {
   "cell_type": "code",
   "execution_count": 5,
   "metadata": {},
   "outputs": [],
   "source": [
    "#profit margin = profit after tax / revenue, for each month\n",
    "Profit_Margin = []\n",
    "for month in range(0,len(Profit_After_Tax)):\n",
    "    Profit_Margin.append(Profit_After_Tax[month]/revenue[month])"
   ]
  },
  {
   "cell_type": "code",
   "execution_count": 6,
   "metadata": {},
   "outputs": [],
   "source": [
    "#Express profit margin as percentage and round off th decimal values\n",
    "Profit_Margin = [round(i*100) for i in Profit_Margin]"
   ]
  },
  {
   "cell_type": "code",
   "execution_count": 7,
   "metadata": {},
   "outputs": [],
   "source": [
    "#Calculate the performance for each month\n",
    "#- good months - where the profit after tax was greater than the mean for the year\n",
    "#- bad months - where the profit after tax was less than the mean for the year\n",
    "#- the best month - where the profit after tax was max for the year\n",
    "#- the worst month - where the profit after tax was min for the year\n",
    "\n",
    "Performance = []\n",
    "\n",
    "#Find out the mean profit after tex for the entire year\n",
    "mean_profit_after_tax = sum(Profit_After_Tax)/len(Profit_After_Tax)\n",
    "\n",
    "#Calculate the performance based on above logic\n",
    "for i in range(0,len(Profit_After_Tax)):\n",
    "    if(Profit_After_Tax[i] > mean_profit_after_tax):\n",
    "        if(Profit_After_Tax[i] == max(Profit_After_Tax)):\n",
    "            Performance.append(\"Best Month\")\n",
    "        else:\n",
    "            Performance.append(\"Good Month\")\n",
    "    elif(Profit_After_Tax[i] < mean_profit_after_tax):\n",
    "        if(Profit_After_Tax[i] == min(Profit_After_Tax)):\n",
    "            Performance.append(\"Worst Month\")\n",
    "        else:\n",
    "            Performance.append(\"Bad Month\")\n",
    "    else:\n",
    "        Performance.append(\"Neutral Month\")       \n",
    "    \n",
    "    "
   ]
  },
  {
   "cell_type": "code",
   "execution_count": 8,
   "metadata": {
    "collapsed": true
   },
   "outputs": [],
   "source": [
    "#Results for dollar values need to be calculated with $0.01 precision, but need to be\n",
    "#presented in Units of $1,000 (i.e. 1k) with no decimal points.\n",
    "\n",
    "profit = [round(i/1000,2) for i in profit]\n",
    "Profit_After_Tax = [round(i/1000,2) for i in Profit_After_Tax]"
   ]
  },
  {
   "cell_type": "code",
   "execution_count": 9,
   "metadata": {},
   "outputs": [
    {
     "name": "stdout",
     "output_type": "stream",
     "text": [
      "Profit for each month in units of $1K:  [2.52, 1.91, -3.71, -2.91, -0.6, 7.27, 8.21, 3.94, 3.33, -2.24, 0.66, 11.63]\n",
      "Profit after tax for each month in units if $1K:  [1.77, 1.34, -2.6, -2.04, -0.42, 5.09, 5.75, 2.76, 2.33, -1.57, 0.46, 8.14]\n",
      "Profit margin each month in %:  [12, 18, -30, -22, -5, 63, 50, 28, 23, -11, 4, 53]\n",
      "Performance in Each Month:  ['Good Month', 'Bad Month', 'Worst Month', 'Bad Month', 'Bad Month', 'Good Month', 'Good Month', 'Good Month', 'Good Month', 'Bad Month', 'Bad Month', 'Best Month']\n"
     ]
    }
   ],
   "source": [
    "#All results are presented as vectors.\n",
    "\n",
    "print(\"Profit for each month in units of $1K: \", profit)\n",
    "print(\"Profit after tax for each month in units if $1K: \", Profit_After_Tax)\n",
    "print(\"Profit margin each month in %: \", Profit_Margin)\n",
    "print(\"Performance in Each Month: \", Performance)"
   ]
  },
  {
   "cell_type": "code",
   "execution_count": null,
   "metadata": {
    "collapsed": true
   },
   "outputs": [],
   "source": []
  }
 ],
 "metadata": {
  "kernelspec": {
   "display_name": "Python 3",
   "language": "python",
   "name": "python3"
  },
  "language_info": {
   "codemirror_mode": {
    "name": "ipython",
    "version": 3
   },
   "file_extension": ".py",
   "mimetype": "text/x-python",
   "name": "python",
   "nbconvert_exporter": "python",
   "pygments_lexer": "ipython3",
   "version": "3.6.3"
  }
 },
 "nbformat": 4,
 "nbformat_minor": 1
}

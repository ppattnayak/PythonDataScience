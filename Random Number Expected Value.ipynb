{
 "cells": [
  {
   "cell_type": "code",
   "execution_count": 8,
   "metadata": {},
   "outputs": [
    {
     "name": "stdout",
     "output_type": "stream",
     "text": [
      "Number of 1000 random numbers between 1 and -1 is: 0.687\n"
     ]
    }
   ],
   "source": [
    "import numpy as np\n",
    "from numpy.random import randn\n",
    "\n",
    "#Specify the Number of Random Numbers\n",
    "N = 1000\n",
    "\n",
    "#Counter to count the number that fall between -1 and 1\n",
    "Count = 0\n",
    "\n",
    "for i in randn(N):\n",
    "    if i > -1 and i < 1 :\n",
    "        Count += 1\n",
    "\n",
    "#Find the expected value        \n",
    "avg_val = Count/N\n",
    "\n",
    "#Print the expected value\n",
    "print(f\"Number of {N} random numbers between 1 and -1 is: {avg_val}\")"
   ]
  },
  {
   "cell_type": "code",
   "execution_count": null,
   "metadata": {
    "collapsed": true
   },
   "outputs": [],
   "source": []
  }
 ],
 "metadata": {
  "kernelspec": {
   "display_name": "Python 3",
   "language": "python",
   "name": "python3"
  },
  "language_info": {
   "codemirror_mode": {
    "name": "ipython",
    "version": 3
   },
   "file_extension": ".py",
   "mimetype": "text/x-python",
   "name": "python",
   "nbconvert_exporter": "python",
   "pygments_lexer": "ipython3",
   "version": "3.6.3"
  }
 },
 "nbformat": 4,
 "nbformat_minor": 2
}
